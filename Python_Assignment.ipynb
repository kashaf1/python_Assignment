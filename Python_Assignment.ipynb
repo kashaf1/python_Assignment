{
 "cells": [
  {
   "cell_type": "code",
   "execution_count": 1,
   "metadata": {},
   "outputs": [
    {
     "name": "stdout",
     "output_type": "stream",
     "text": [
      " Twinkle ,twinkle little star, \n",
      "      How I wonder  what  you  are! \n",
      "                Up above the world so high,\n",
      "                Like a diamond  in  a  sky.\n",
      " Twinkle ,twinkle little star, \n",
      "      How I wonder what you are! \n"
     ]
    }
   ],
   "source": [
    "print (\" Twinkle ,twinkle little star, \")\n",
    "print(\"      How I wonder  what  you  are! \")\n",
    "print(\"                Up above the world so high,\")\n",
    "print(\"                Like a diamond  in  a  sky.\")\n",
    "print (\" Twinkle ,twinkle little star, \")\n",
    "print(\"      How I wonder what you are! \")\n",
    "\n"
   ]
  },
  {
   "cell_type": "code",
   "execution_count": 2,
   "metadata": {},
   "outputs": [
    {
     "name": "stdout",
     "output_type": "stream",
     "text": [
      "Python version\n",
      "3.7.4 (default, Aug  9 2019, 18:34:13) [MSC v.1915 64 bit (AMD64)]\n"
     ]
    }
   ],
   "source": [
    "import sys\n",
    "print(\"Python version\")\n",
    "print(sys.version)"
   ]
  },
  {
   "cell_type": "code",
   "execution_count": 3,
   "metadata": {},
   "outputs": [
    {
     "name": "stdout",
     "output_type": "stream",
     "text": [
      "Current Dtae is : 3-Nov-2019\n",
      "Current Time is : 8:32\n"
     ]
    }
   ],
   "source": [
    "print(\"Current Dtae is : 3-Nov-2019\")\n",
    "print(\"Current Time is : 8:32\")"
   ]
  },
  {
   "cell_type": "code",
   "execution_count": 4,
   "metadata": {},
   "outputs": [
    {
     "name": "stdout",
     "output_type": "stream",
     "text": [
      "Enter a Number which tell us the radius of that Number3\n",
      "Area of circle is :\n",
      "28.259999999999998\n"
     ]
    }
   ],
   "source": [
    "pi =3.14\n",
    "radius = int(input(\"Enter a Number which tell us the radius of that Number\"))\n",
    "area= pi * radius * radius;\n",
    "print(\"Area of circle is :\")\n",
    "print(area)"
   ]
  },
  {
   "cell_type": "markdown",
   "metadata": {},
   "source": []
  },
  {
   "cell_type": "code",
   "execution_count": null,
   "metadata": {},
   "outputs": [],
   "source": []
  },
  {
   "cell_type": "code",
   "execution_count": 5,
   "metadata": {},
   "outputs": [
    {
     "name": "stdout",
     "output_type": "stream",
     "text": [
      "Enter First Name :kashaf\n",
      "Enter Last Name  :arshad\n",
      "arshad kashaf\n"
     ]
    }
   ],
   "source": [
    "first_name =input(\"Enter First Name :\")\n",
    "last_name = input(\"Enter Last Name  :\")\n",
    "print(last_name +\" \"+first_name)"
   ]
  },
  {
   "cell_type": "code",
   "execution_count": 6,
   "metadata": {},
   "outputs": [
    {
     "name": "stdout",
     "output_type": "stream",
     "text": [
      "Enter a First Number  : 8\n",
      "Enter a second Number : 4\n",
      "addition of two numbers\n",
      "12\n"
     ]
    }
   ],
   "source": [
    "First_No  = int(input(\"Enter a First Number  : \"))\n",
    "Second_No = int(input(\"Enter a second Number : \"))\n",
    "Total = First_No + Second_No\n",
    "print (\"addition of two numbers\")\n",
    "print(Total)\n"
   ]
  },
  {
   "cell_type": "code",
   "execution_count": null,
   "metadata": {},
   "outputs": [],
   "source": []
  }
 ],
 "metadata": {
  "kernelspec": {
   "display_name": "Python 3",
   "language": "python",
   "name": "python3"
  },
  "language_info": {
   "codemirror_mode": {
    "name": "ipython",
    "version": 3
   },
   "file_extension": ".py",
   "mimetype": "text/x-python",
   "name": "python",
   "nbconvert_exporter": "python",
   "pygments_lexer": "ipython3",
   "version": "3.7.4"
  }
 },
 "nbformat": 4,
 "nbformat_minor": 2
}
